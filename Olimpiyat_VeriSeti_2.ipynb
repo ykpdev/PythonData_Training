{
 "cells": [
  {
   "cell_type": "code",
   "execution_count": null,
   "id": "c98d096a",
   "metadata": {
    "scrolled": true
   },
   "outputs": [],
   "source": [
    "import pandas as pd\n",
    "import matplotlib.pyplot as plt\n",
    "import numpy as np\n",
    "from collections import Counter\n",
    " \n",
    "\n",
    "import warnings \n",
    "warnings.filterwarnings(\"ignore\")\n",
    "veri = pd.read_csv(\"olimpiyatlar_temizlenmis.csv\")\n",
    "veri.info()\n",
    "import matplotlib.pyplot as plt\n",
    "\n",
    "def plotHistogram(degisken):\n",
    "    \"\"\"\n",
    "        Girdi: Degisken/sutun ismi\n",
    "        Çıktı: İlgili değişkenin histogramı\n",
    "    \"\"\"\n",
    "    # matplotlib plt olarak kısaltık figure olarak şekil oluşturmak için kullanılır\n",
    "    # bins=85: Histogramdaki çubuk sayısını belirler.\n",
    "    # Bu değer, veri aralığının kaç bölüme ayrılacağını belirler.\n",
    "    plt.figure()    # histogram  taslağı aşağıdaki gibidir\n",
    "    plt.hist(veri[degisken], bins=85, color=\"orange\") # bins değeri aralık bildirir\n",
    "    plt.xlabel(degisken) # yatay eksene ne yazdıracağını \n",
    "    plt.ylabel(\"Frekans\")\n",
    "    plt.title(\"Veri Sıklığı-{}\".format(degisken))  # title ile veri setine başlık koyulur\n",
    "    plt.show() # tabloyu gösterir\n",
    "\n",
    "sayısal_degiskenler = [\"yas\", \"boy\", \"kilo\", \"yıl\"]\n",
    "for i in sayısal_degiskenler:\n",
    "    plotHistogram(i) # i dendiği zaman belirlenen değişkenleri tek tek gezer \n",
    "# describe fonksiyonu veriyi bize özetler\n",
    "veri.describe()\n",
    "# kutu grafiği oluşturma\n",
    "plt.boxplot(veri.yas)\n",
    "plt.title(\"yas değişkeni için kutu grafiği\")\n",
    "plt.xlabel(\"yas\")\n",
    "plt.ylabel(\"yas\")\n",
    "plt.show()  \n",
    "def plotBar(degisken,n = 5):\n",
    "    \"\"\"\n",
    "       girdi:değişken/sütün ismi\n",
    "             n=gösterilecek essiz değer sayısı\n",
    "       çıktı:çubuk graği\n",
    "    \"\"\"\n",
    "    veri_=veri[degisken]# yazılış formatı \n",
    "    veri_sayma=veri_.value_counts()\n",
    "    veri_sayma=veri_sayma[:n]\n",
    "    plt.figure()\n",
    "    plt.bar(veri_sayma.index,veri_sayma,color=\"orange\")\n",
    "    plt.xticks(veri_sayma.index,veri_sayma.index.values)\n",
    "    plt.xticks(rotation=45)\n",
    "    plt.ylabel(\"frekans\")\n",
    "    plt.title(\"veri sıklığı - {}\".format(degisken))\n",
    "    plt.show()\n",
    "    print(\"{}:\\n {}\".format(degisken,veri_sayma))\n",
    "    kategorik_degisken=[\"isim\",\"takım\",\"sezon\",\"sehir\", \"etkinlik \"]\n",
    "    for i in kategorik_degisken:\n",
    "        plotBar(i)\n",
    "kategorik_degisken =[\"isim\", \"takım\" , \"sezon\" , \"sehir\" , \"etkinlik\"]\n",
    "for i in kategorik_degisken:\n",
    "    plotBar(i)\n",
    "    "
   ]
  }
 ],
 "metadata": {
  "kernelspec": {
   "display_name": "Python 3 (ipykernel)",
   "language": "python",
   "name": "python3"
  },
  "language_info": {
   "codemirror_mode": {
    "name": "ipython",
    "version": 3
   },
   "file_extension": ".py",
   "mimetype": "text/x-python",
   "name": "python",
   "nbconvert_exporter": "python",
   "pygments_lexer": "ipython3",
   "version": "3.10.9"
  }
 },
 "nbformat": 4,
 "nbformat_minor": 5
}
